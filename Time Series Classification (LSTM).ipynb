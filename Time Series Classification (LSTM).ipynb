{
 "cells": [
  {
   "cell_type": "code",
   "execution_count": 1,
   "id": "636c7a52",
   "metadata": {},
   "outputs": [],
   "source": [
    "import pandas as pd\n",
    "import sklearn.metrics as metrique\n",
    "from pandas import Series\n",
    "from sklearn.preprocessing import StandardScaler, MinMaxScaler\n",
    "from matplotlib import pyplot\n",
    "from sklearn.model_selection import train_test_split\n",
    "import numpy as np\n",
    "from keras.callbacks import EarlyStopping\n",
    "from keras.utils import np_utils\n",
    "from keras.callbacks import ModelCheckpoint\n",
    "from sklearn.metrics import accuracy_score\n",
    "from sklearn.metrics import classification_report, confusion_matrix\n",
    "from keras.models import Sequential\n",
    "from keras.utils import np_utils\n",
    "from keras.layers import LSTM, Dense, Embedding, Dropout,Input, Attention, Layer, Concatenate, Permute, Dot, Multiply, Flatten\n",
    "from keras.layers import RepeatVector, Dense, Activation, Lambda\n",
    "from keras.models import Sequential\n",
    "from keras import backend as K, regularizers, Model, metrics\n",
    "from keras.backend import cast"
   ]
  },
  {
   "cell_type": "code",
   "execution_count": 2,
   "id": "d26a0843",
   "metadata": {},
   "outputs": [],
   "source": [
    "df = pd.read_csv(\"creditcard.csv\")"
   ]
  },
  {
   "cell_type": "code",
   "execution_count": 3,
   "id": "5349e3e0",
   "metadata": {},
   "outputs": [
    {
     "data": {
      "text/plain": [
       "(284807, 31)"
      ]
     },
     "execution_count": 3,
     "metadata": {},
     "output_type": "execute_result"
    }
   ],
   "source": [
    "df.shape"
   ]
  },
  {
   "cell_type": "code",
   "execution_count": 4,
   "id": "5f8fad18",
   "metadata": {},
   "outputs": [],
   "source": [
    "from sklearn.preprocessing import StandardScaler\n",
    "# Standardisation of Time and Amount variables\n",
    "df['Amount'] = StandardScaler().fit_transform(df['Amount'].values.reshape(-1, 1))\n",
    "df['Time'] = StandardScaler().fit_transform(df['Time'].values.reshape(-1, 1))"
   ]
  },
  {
   "cell_type": "code",
   "execution_count": 5,
   "id": "edc60737",
   "metadata": {},
   "outputs": [],
   "source": [
    "X = df.drop(['Class'], axis=1)\n",
    "y = df['Class']"
   ]
  },
  {
   "cell_type": "code",
   "execution_count": 6,
   "id": "eecb7f24",
   "metadata": {},
   "outputs": [],
   "source": [
    "from sklearn.model_selection import train_test_split\n",
    "x_train,x_test,y_train,y_test = train_test_split(X, y, test_size=0.2, random_state=424)"
   ]
  },
  {
   "cell_type": "code",
   "execution_count": 7,
   "id": "4be64b79",
   "metadata": {},
   "outputs": [
    {
     "data": {
      "text/plain": [
       "(227845, 30)"
      ]
     },
     "execution_count": 7,
     "metadata": {},
     "output_type": "execute_result"
    }
   ],
   "source": [
    "x_train.shape"
   ]
  },
  {
   "cell_type": "code",
   "execution_count": 8,
   "id": "ba8a5373",
   "metadata": {},
   "outputs": [
    {
     "data": {
      "text/plain": [
       "(56962, 30)"
      ]
     },
     "execution_count": 8,
     "metadata": {},
     "output_type": "execute_result"
    }
   ],
   "source": [
    "x_test.shape"
   ]
  },
  {
   "cell_type": "code",
   "execution_count": 9,
   "id": "b1ef8faf",
   "metadata": {},
   "outputs": [],
   "source": [
    "## Reshape input to be 3D [samples, timesteps, features] \n",
    "x_train = np.array(x_train).reshape((x_train.shape[0], 1, x_train.shape[1]))\n",
    "x_test = np.array(x_test).reshape((x_test.shape[0], 1, x_test.shape[1]))"
   ]
  },
  {
   "cell_type": "code",
   "execution_count": 10,
   "id": "0192187b",
   "metadata": {},
   "outputs": [],
   "source": [
    "class attention(Layer):\n",
    "    def __init__(self,**kwargs):\n",
    "        super(attention,self).__init__(**kwargs)\n",
    "\n",
    "    def build(self,input_shape):\n",
    "        self.W=self.add_weight(name=\"att_weight\",shape=(input_shape[-1],1),initializer=\"normal\")\n",
    "        self.b=self.add_weight(name=\"att_bias\",shape=(input_shape[1],1),initializer=\"zeros\")        \n",
    "        super(attention, self).build(input_shape)\n",
    "\n",
    "    def call(self,x):\n",
    "        et=K.squeeze(K.tanh(K.dot(x,self.W)+self.b),axis=-1)\n",
    "        at=K.softmax(et)\n",
    "        at=K.expand_dims(at,axis=-1)\n",
    "        output=x*at\n",
    "        return K.sum(output,axis=1)\n",
    "\n",
    "    def compute_output_shape(self,input_shape):\n",
    "        return (input_shape[0],input_shape[-1])\n",
    "\n",
    "    def get_config(self):\n",
    "        return super(attention,self).get_config()"
   ]
  },
  {
   "cell_type": "code",
   "execution_count": 11,
   "id": "e2e6e951",
   "metadata": {},
   "outputs": [],
   "source": [
    "import numpy as np\n",
    "import tensorflow as tf\n",
    "from keras import backend as K\n",
    "\n",
    "\n",
    "def recall(y_true, y_pred):\n",
    "    true_positives = K.sum(K.round(K.clip(y_true * y_pred, 0, 1)))\n",
    "    possible_positives = K.sum(K.round(K.clip(y_true, 0, 1)))\n",
    "    recall_keras = true_positives / (possible_positives + K.epsilon())\n",
    "    return recall_keras\n",
    "\n",
    "\n",
    "def precision(y_true, y_pred):\n",
    "    true_positives = K.sum(K.round(K.clip(y_true * y_pred, 0, 1)))\n",
    "    predicted_positives = K.sum(K.round(K.clip(y_pred, 0, 1)))\n",
    "    precision_keras = true_positives / (predicted_positives + K.epsilon())\n",
    "    return precision_keras\n",
    "\n",
    "\n",
    "def specificity(y_true, y_pred):\n",
    "    tn = K.sum(K.round(K.clip((1 - y_true) * (1 - y_pred), 0, 1)))\n",
    "    fp = K.sum(K.round(K.clip((1 - y_true) * y_pred, 0, 1)))\n",
    "    return tn / (tn + fp + K.epsilon())\n",
    "\n",
    "\n",
    "def negative_predictive_value(y_true, y_pred):\n",
    "    tn = K.sum(K.round(K.clip((1 - y_true) * (1 - y_pred), 0, 1)))\n",
    "    fn = K.sum(K.round(K.clip(y_true * (1 - y_pred), 0, 1)))\n",
    "    return tn / (tn + fn + K.epsilon())\n",
    "\n",
    "\n",
    "def f1(y_true, y_pred):\n",
    "    p = precision(y_true, y_pred)\n",
    "    r = recall(y_true, y_pred)\n",
    "    return 2 * ((p * r) / (p + r + K.epsilon()))\n",
    "\n",
    "\n",
    "def fbeta(y_true, y_pred, beta=2):\n",
    "    y_pred = K.clip(y_pred, 0, 1)\n",
    "\n",
    "    tp = K.sum(K.round(K.clip(y_true * y_pred, 0, 1)), axis=1)\n",
    "    fp = K.sum(K.round(K.clip(y_pred - y_true, 0, 1)), axis=1)\n",
    "    fn = K.sum(K.round(K.clip(y_true - y_pred, 0, 1)), axis=1)\n",
    "\n",
    "    p = tp / (tp + fp + K.epsilon())\n",
    "    r = tp / (tp + fn + K.epsilon())\n",
    "\n",
    "    num = (1 + beta ** 2) * (p * r)\n",
    "    den = (beta ** 2 * p + r + K.epsilon())\n",
    "    return K.mean(num / den)\n",
    "\n",
    "\n",
    "def matthews_correlation_coefficient(y_true, y_pred):\n",
    "    tp = K.sum(K.round(K.clip(y_true * y_pred, 0, 1)))\n",
    "    tn = K.sum(K.round(K.clip((1 - y_true) * (1 - y_pred), 0, 1)))\n",
    "    fp = K.sum(K.round(K.clip((1 - y_true) * y_pred, 0, 1)))\n",
    "    fn = K.sum(K.round(K.clip(y_true * (1 - y_pred), 0, 1)))\n",
    "\n",
    "    num = tp * tn - fp * fn\n",
    "    den = (tp + fp) * (tp + fn) * (tn + fp) * (tn + fn)\n",
    "    return num / K.sqrt(den + K.epsilon())\n",
    "\n",
    "\n",
    "def equal_error_rate(y_true, y_pred):\n",
    "    n_imp = tf.count_nonzero(tf.equal(y_true, 0), dtype=tf.float32) + tf.constant(K.epsilon())\n",
    "    n_gen = tf.count_nonzero(tf.equal(y_true, 1), dtype=tf.float32) + tf.constant(K.epsilon())\n",
    "\n",
    "    scores_imp = tf.boolean_mask(y_pred, tf.equal(y_true, 0))\n",
    "    scores_gen = tf.boolean_mask(y_pred, tf.equal(y_true, 1))\n",
    "\n",
    "    loop_vars = (tf.constant(0.0), tf.constant(1.0), tf.constant(0.0))\n",
    "    cond = lambda t, fpr, fnr: tf.greater_equal(fpr, fnr)\n",
    "    body = lambda t, fpr, fnr: (\n",
    "        t + 0.001,\n",
    "        tf.divide(tf.count_nonzero(tf.greater_equal(scores_imp, t), dtype=tf.float32), n_imp),\n",
    "        tf.divide(tf.count_nonzero(tf.less(scores_gen, t), dtype=tf.float32), n_gen)\n",
    "    )\n",
    "    t, fpr, fnr = tf.while_loop(cond, body, loop_vars, back_prop=False)\n",
    "    eer = (fpr + fnr) / 2\n",
    "\n",
    "    return eer"
   ]
  },
  {
   "cell_type": "code",
   "execution_count": 12,
   "id": "c4cd0b1f",
   "metadata": {},
   "outputs": [],
   "source": [
    "input1=Input((1,30))\n",
    "att_in=LSTM(50,return_sequences=True,dropout=0.3,recurrent_dropout=0.2)(input1)\n",
    "att_in_1=LSTM(50,return_sequences=True,dropout=0.3,recurrent_dropout=0.2)(att_in)\n",
    "att_out=attention()(att_in_1)\n",
    "output1=Dense(1,activation='sigmoid',trainable=True)(att_out)\n",
    "model1=Model(input1,output1)"
   ]
  },
  {
   "cell_type": "code",
   "execution_count": 13,
   "id": "7ffe4a71",
   "metadata": {},
   "outputs": [],
   "source": [
    "model1.compile(loss='binary_crossentropy', optimizer='adam', metrics=matthews_correlation_coefficient)"
   ]
  },
  {
   "cell_type": "code",
   "execution_count": 14,
   "id": "fc993a5c",
   "metadata": {},
   "outputs": [
    {
     "name": "stdout",
     "output_type": "stream",
     "text": [
      "Epoch 1/20\n",
      "3561/3561 [==============================] - 52s 10ms/step - loss: 0.0053 - matthews_correlation_coefficient: 0.0742 - val_loss: 4.5430e-04 - val_matthews_correlation_coefficient: 0.0708\n",
      "Epoch 2/20\n",
      "3561/3561 [==============================] - 35s 10ms/step - loss: 6.4507e-04 - matthews_correlation_coefficient: 0.0838 - val_loss: 4.6874e-04 - val_matthews_correlation_coefficient: 0.0708\n",
      "Epoch 3/20\n",
      "3561/3561 [==============================] - 31s 9ms/step - loss: 6.1573e-04 - matthews_correlation_coefficient: 0.0849 - val_loss: 4.5755e-04 - val_matthews_correlation_coefficient: 0.0708\n",
      "Epoch 4/20\n",
      "3561/3561 [==============================] - 46s 13ms/step - loss: 6.1169e-04 - matthews_correlation_coefficient: 0.0838 - val_loss: 4.6578e-04 - val_matthews_correlation_coefficient: 0.0708\n",
      "Epoch 5/20\n",
      "3561/3561 [==============================] - 49s 14ms/step - loss: 6.0359e-04 - matthews_correlation_coefficient: 0.0859 - val_loss: 4.6445e-04 - val_matthews_correlation_coefficient: 0.0708\n",
      "Epoch 6/20\n",
      "3561/3561 [==============================] - 49s 14ms/step - loss: 6.0422e-04 - matthews_correlation_coefficient: 0.0841 - val_loss: 4.6312e-04 - val_matthews_correlation_coefficient: 0.0708\n",
      "Epoch 7/20\n",
      "3561/3561 [==============================] - 46s 13ms/step - loss: 6.0478e-04 - matthews_correlation_coefficient: 0.0874 - val_loss: 4.6163e-04 - val_matthews_correlation_coefficient: 0.0708\n",
      "Epoch 8/20\n",
      "3561/3561 [==============================] - 48s 14ms/step - loss: 5.8878e-04 - matthews_correlation_coefficient: 0.0847 - val_loss: 4.5691e-04 - val_matthews_correlation_coefficient: 0.0708\n",
      "Epoch 9/20\n",
      "3561/3561 [==============================] - 48s 14ms/step - loss: 5.6887e-04 - matthews_correlation_coefficient: 0.0868 - val_loss: 4.5414e-04 - val_matthews_correlation_coefficient: 0.0708\n",
      "Epoch 10/20\n",
      "3561/3561 [==============================] - 48s 14ms/step - loss: 5.8057e-04 - matthews_correlation_coefficient: 0.0878 - val_loss: 4.4696e-04 - val_matthews_correlation_coefficient: 0.0708\n",
      "Epoch 11/20\n",
      "3561/3561 [==============================] - 49s 14ms/step - loss: 5.8025e-04 - matthews_correlation_coefficient: 0.0853 - val_loss: 4.5441e-04 - val_matthews_correlation_coefficient: 0.0708\n",
      "Epoch 12/20\n",
      "3561/3561 [==============================] - 52s 15ms/step - loss: 5.6489e-04 - matthews_correlation_coefficient: 0.0862 - val_loss: 4.5426e-04 - val_matthews_correlation_coefficient: 0.0708\n",
      "Epoch 13/20\n",
      "3561/3561 [==============================] - 47s 13ms/step - loss: 5.6201e-04 - matthews_correlation_coefficient: 0.0830 - val_loss: 4.4443e-04 - val_matthews_correlation_coefficient: 0.0708\n",
      "Epoch 14/20\n",
      "3561/3561 [==============================] - 50s 14ms/step - loss: 5.6456e-04 - matthews_correlation_coefficient: 0.0868 - val_loss: 4.4468e-04 - val_matthews_correlation_coefficient: 0.0708\n",
      "Epoch 15/20\n",
      "3561/3561 [==============================] - 50s 14ms/step - loss: 5.5812e-04 - matthews_correlation_coefficient: 0.0825 - val_loss: 4.5530e-04 - val_matthews_correlation_coefficient: 0.0708\n",
      "Epoch 16/20\n",
      "3561/3561 [==============================] - 49s 14ms/step - loss: 5.3611e-04 - matthews_correlation_coefficient: 0.0859 - val_loss: 4.4467e-04 - val_matthews_correlation_coefficient: 0.0708\n",
      "Epoch 17/20\n",
      "3561/3561 [==============================] - 49s 14ms/step - loss: 5.5526e-04 - matthews_correlation_coefficient: 0.0855 - val_loss: 4.2757e-04 - val_matthews_correlation_coefficient: 0.0708\n",
      "Epoch 18/20\n",
      "3561/3561 [==============================] - 48s 13ms/step - loss: 5.4086e-04 - matthews_correlation_coefficient: 0.0858 - val_loss: 4.4950e-04 - val_matthews_correlation_coefficient: 0.0708\n",
      "Epoch 19/20\n",
      "3561/3561 [==============================] - 47s 13ms/step - loss: 5.4802e-04 - matthews_correlation_coefficient: 0.0855 - val_loss: 4.3965e-04 - val_matthews_correlation_coefficient: 0.0708\n",
      "Epoch 20/20\n",
      "3561/3561 [==============================] - 48s 13ms/step - loss: 5.6054e-04 - matthews_correlation_coefficient: 0.0851 - val_loss: 4.3759e-04 - val_matthews_correlation_coefficient: 0.0708\n"
     ]
    }
   ],
   "source": [
    "history=model1.fit(x_train, y_train,epochs=20,batch_size=64, validation_data=(x_test, y_test))"
   ]
  },
  {
   "cell_type": "code",
   "execution_count": 15,
   "id": "5dabc7b0",
   "metadata": {},
   "outputs": [
    {
     "name": "stdout",
     "output_type": "stream",
     "text": [
      "Train: 0.045, Test: 0.037\n"
     ]
    }
   ],
   "source": [
    "_, train_acc = model1.evaluate(x_train, y_train, verbose=0)\n",
    "_, test_acc = model1.evaluate(x_test, y_test, verbose=0)\n",
    "print('Train: %.3f, Test: %.3f' % (train_acc, test_acc))"
   ]
  },
  {
   "cell_type": "code",
   "execution_count": 16,
   "id": "9fcb9801",
   "metadata": {},
   "outputs": [],
   "source": [
    "pred = model1.predict(x_test)\n",
    "y_pred = np.round(pred)"
   ]
  },
  {
   "cell_type": "code",
   "execution_count": 17,
   "id": "1aa6dfee",
   "metadata": {},
   "outputs": [
    {
     "data": {
      "text/plain": [
       "array([[0.],\n",
       "       [0.],\n",
       "       [0.],\n",
       "       ...,\n",
       "       [0.],\n",
       "       [0.],\n",
       "       [0.]], dtype=float32)"
      ]
     },
     "execution_count": 17,
     "metadata": {},
     "output_type": "execute_result"
    }
   ],
   "source": [
    "y_pred"
   ]
  },
  {
   "cell_type": "code",
   "execution_count": 18,
   "id": "3f7852a3",
   "metadata": {},
   "outputs": [
    {
     "name": "stdout",
     "output_type": "stream",
     "text": [
      "              precision    recall  f1-score   support\n",
      "\n",
      "           0       1.00      1.00      1.00     56880\n",
      "           1       0.83      0.82      0.82        82\n",
      "\n",
      "    accuracy                           1.00     56962\n",
      "   macro avg       0.91      0.91      0.91     56962\n",
      "weighted avg       1.00      1.00      1.00     56962\n",
      "\n"
     ]
    }
   ],
   "source": [
    "from sklearn.metrics import classification_report\n",
    "from sklearn.metrics import matthews_corrcoef\n",
    "print(classification_report(y_test, y_pred))"
   ]
  },
  {
   "cell_type": "code",
   "execution_count": 19,
   "id": "b2474562",
   "metadata": {},
   "outputs": [
    {
     "name": "stdout",
     "output_type": "stream",
     "text": [
      "0.8218464895399966\n"
     ]
    }
   ],
   "source": [
    "print(matthews_corrcoef(y_test, y_pred))"
   ]
  },
  {
   "cell_type": "code",
   "execution_count": 20,
   "id": "f1106adf",
   "metadata": {},
   "outputs": [],
   "source": [
    "from sklearn.metrics import confusion_matrix\n",
    "class Visualization:\n",
    "    labels = [\"No-Fraud\", \"Fraud\"]\n",
    "\n",
    "    def draw_confusion_matrix(self, y, ypred):\n",
    "        matrix = confusion_matrix(y, ypred)\n",
    "\n",
    "        plt.figure(figsize=(10, 8))\n",
    "        colors=[ \"orange\",\"green\"]\n",
    "        sns.heatmap(matrix, xticklabels=self.labels, yticklabels=self.labels, cmap=colors, annot=True, fmt=\"d\")\n",
    "        plt.title(\"Confusion Matrix\")\n",
    "        plt.ylabel('Actual')\n",
    "        plt.xlabel('Predicted')\n",
    "        plt.show()\n",
    "\n",
    "\n",
    "    def draw_anomaly(self, y, error, threshold):\n",
    "        groupsDF = pd.DataFrame({'error': error,\n",
    "                                 'true': y}).groupby('true')\n",
    "\n",
    "        figure, axes = plt.subplots(figsize=(12, 8))\n",
    "\n",
    "        for name, group in groupsDF:\n",
    "            axes.plot(group.index, group.error, marker='x' if name == 1 else 'o', linestyle='',\n",
    "                    color='r' if name == 1 else 'g', label=\"Anomaly\" if name == 1 else \"Normal\")\n",
    "\n",
    "        axes.hlines(threshold, axes.get_xlim()[0], axes.get_xlim()[1], colors=\"b\", zorder=100, label='Threshold')\n",
    "        axes.legend()\n",
    "        \n",
    "        plt.title(\"Fraud\")\n",
    "        plt.ylabel(\"Error\")\n",
    "        plt.xlabel(\"Data\")\n",
    "        plt.show()\n",
    "\n",
    "    def draw_error(self, error, threshold):\n",
    "            plt.plot(error, marker='o', ms=3.5, linestyle='',\n",
    "                     label='Point')\n",
    "\n",
    "            plt.hlines(threshold, xmin=0, xmax=len(error)-1, colors=\"b\", zorder=100, label='Threshold')\n",
    "            plt.legend()\n",
    "            plt.title(\"Reconstruction error\")\n",
    "            plt.ylabel(\"Error\")\n",
    "            plt.xlabel(\"Data\")\n",
    "            plt.show()"
   ]
  },
  {
   "cell_type": "code",
   "execution_count": 21,
   "id": "7b3cf1b3",
   "metadata": {},
   "outputs": [
    {
     "data": {
      "image/png": "[encoded data removed]",
      "text/plain": [
       "<Figure size 720x576 with 2 Axes>"
      ]
     },
     "metadata": {
      "needs_background": "light"
     },
     "output_type": "display_data"
    }
   ],
   "source": [
    "import matplotlib.pyplot as plt\n",
    "import seaborn as sns\n",
    "visualize = Visualization()\n",
    "visualize.draw_confusion_matrix(y_test, y_pred)"
   ]
  }
 ],
 "metadata": {
  "kernelspec": {
   "display_name": "Python 3",
   "language": "python",
   "name": "python3"
  },
  "language_info": {
   "codemirror_mode": {
    "name": "ipython",
    "version": 3
   },
   "file_extension": ".py",
   "mimetype": "text/x-python",
   "name": "python",
   "nbconvert_exporter": "python",
   "pygments_lexer": "ipython3",
   "version": "3.8.8"
  }
 },
 "nbformat": 4,
 "nbformat_minor": 5
}
